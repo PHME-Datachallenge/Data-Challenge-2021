{
 "cells": [
  {
   "cell_type": "code",
   "execution_count": 1,
   "metadata": {},
   "outputs": [],
   "source": [
    "from os.path import isfile, join\n",
    "from os import listdir\n",
    "from numpy import nan\n",
    "import pandas as pd\n",
    "import numpy as np\n",
    "import os"
   ]
  },
  {
   "cell_type": "code",
   "execution_count": 2,
   "metadata": {},
   "outputs": [],
   "source": [
    "#BONUS POINT: This script is used to assess the performance of the clustering result\n",
    "#Test CreateCluster is the prototype of the function that each team can develop to cluster fault-free experiments\n",
    "#This function must handle all the operation to: read the input files and return the clustering result\n",
    "#Input: \n",
    "# - Folder Name: The name of the folder where the experiment file are stored\n",
    "#Output:\n",
    "# - ExperimentList: the name of the exeperiments in the input Folder. \n",
    "### IMPORTANT: This list must return the experiment in the same order as processed by the clustering. \n",
    "# - ClusterLabels: The cluster ID for each Experiment in the ExperimentList list\n",
    "\n",
    "def CreateCluster(FolderName):\n",
    "\n",
    "    ExperimentList = [f for f in listdir(FolderName) if isfile(join(FolderName, f))]\n",
    "    ClusterLabels = []\n",
    "    \n",
    "    #Output EXAMPLE to run the script\n",
    "    ClusterLabels = [1,0]\n",
    "\n",
    "    return ExperimentList, ClusterLabels"
   ]
  },
  {
   "cell_type": "code",
   "execution_count": 3,
   "metadata": {},
   "outputs": [],
   "source": [
    "#Logperformance function stores the final performance. Only this performance will be used to compute the Penalty score of each team\n",
    "def LogPerformance(ExperimentList, ClusterLabels):\n",
    "\n",
    "    if not os.path.exists('Cluster_Results'):\n",
    "        os.makedirs('Cluster_Results')\n",
    "        \n",
    "    PerformanceOutput = open(\"Cluster_Results/ClusterPerformance.csv\",\"w\")\n",
    "    PerformanceOutput.write(\"Experiment;ClusterLabel\\n\")\n",
    "    for i in range(len(ExperimentList)):\n",
    "        Experiment   = ExperimentList[i]\n",
    "        ClusterLabel = ClusterLabels[i]\n",
    "        PerformanceOutput.write(Experiment+\";\"+str(ClusterLabel)+\"\\n\")\n",
    "    PerformanceOutput.close()\n",
    "    \n",
    "    return"
   ]
  },
  {
   "cell_type": "code",
   "execution_count": 4,
   "metadata": {},
   "outputs": [],
   "source": [
    "#Example of the validation pipleline for the BONUS POINT.\n",
    "#Data/ is the folder where the experiment is stored\n",
    "\n",
    "def main():\n",
    "    \n",
    "    FolderName = \"Data/\"\n",
    "    ExperimentList, ClusterLabels = CreateCluster(FolderName)\n",
    "    \n",
    "    LogPerformance(ExperimentList, ClusterLabels)\n",
    "    return\n",
    "\n",
    "main()"
   ]
  }
 ],
 "metadata": {
  "kernelspec": {
   "display_name": "Python 3",
   "language": "python",
   "name": "python3"
  },
  "language_info": {
   "codemirror_mode": {
    "name": "ipython",
    "version": 3
   },
   "file_extension": ".py",
   "mimetype": "text/x-python",
   "name": "python",
   "nbconvert_exporter": "python",
   "pygments_lexer": "ipython3",
   "version": "3.7.9"
  }
 },
 "nbformat": 4,
 "nbformat_minor": 4
}
